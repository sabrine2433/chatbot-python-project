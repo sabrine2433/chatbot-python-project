{
 "cells": [
  {
   "cell_type": "markdown",
   "id": "3aa9ea04",
   "metadata": {},
   "source": [
    "## Necessary imports"
   ]
  },
  {
   "cell_type": "code",
   "execution_count": 34,
   "id": "dff73cc5",
   "metadata": {},
   "outputs": [],
   "source": [
    "import nltk\n",
    "from nltk.stem import WordNetLemmatizer\n",
    "import json\n",
    "import pickle\n",
    "\n",
    "import numpy as np\n",
    "from  tensorflow.keras.models import Sequential\n",
    "from  tensorflow.keras.layers import Dense, Activation, Dropout\n",
    "#from keras.optimizers import SGD\n",
    "from tensorflow.keras.optimizers import SGD\n",
    "import random"
   ]
  },
  {
   "cell_type": "markdown",
   "id": "044a9b2c",
   "metadata": {},
   "source": [
    "## Instantiating"
   ]
  },
  {
   "cell_type": "code",
   "execution_count": 35,
   "id": "bc112e5c",
   "metadata": {},
   "outputs": [
    {
     "name": "stderr",
     "output_type": "stream",
     "text": [
      "[nltk_data] Downloading package punkt to /home/sabrine/nltk_data...\n",
      "[nltk_data]   Package punkt is already up-to-date!\n"
     ]
    },
    {
     "data": {
      "text/plain": [
       "True"
      ]
     },
     "execution_count": 35,
     "metadata": {},
     "output_type": "execute_result"
    }
   ],
   "source": [
    "lemmatizer = WordNetLemmatizer()\n",
    "words=[]\n",
    "classes = []\n",
    "documents = []\n",
    "ignore_words = ['?', '!']\n",
    "data_file = open('intents.json').read()\n",
    "intents = json.loads(data_file)\n",
    "nltk.download('punkt')\n",
    "\n",
    "\n"
   ]
  },
  {
   "cell_type": "code",
   "execution_count": 36,
   "id": "ab7595fd",
   "metadata": {},
   "outputs": [],
   "source": [
    "\n",
    "for intent in intents['intents']:\n",
    "    for pattern in intent['patterns']:\n",
    "        #tokenize each word\n",
    "        w = nltk.word_tokenize(pattern)\n",
    "        words.extend(w)\n",
    "        #add documents in the corpus\n",
    "        documents.append((w, intent['tag']))\n",
    "        # add to our classes list\n",
    "        if intent['tag'] not in classes:\n",
    "            classes.append(intent['tag'])\n",
    "\n"
   ]
  },
  {
   "cell_type": "markdown",
   "id": "2772b452",
   "metadata": {},
   "source": [
    "## lemmaztize and lower each word and remove duplicates"
   ]
  },
  {
   "cell_type": "code",
   "execution_count": 37,
   "id": "7c6c74a1",
   "metadata": {},
   "outputs": [
    {
     "name": "stdout",
     "output_type": "stream",
     "text": [
      "[\"'s\", ',', 'a', 'adverse', 'all', 'anyone', 'are', 'awesome', 'be', 'behavior', 'blood', 'by', 'bye', 'can', 'causing', 'chatting', 'check', 'could', 'data', 'day', 'detail', 'do', 'dont', 'drug', 'entry', 'find', 'for', 'give', 'good', 'goodbye', 'have', 'hello', 'help', 'helpful', 'helping', 'hey', 'hi', 'history', 'hola', 'hospital', 'how', 'i', 'id', 'is', 'later', 'list', 'load', 'locate', 'log', 'looking', 'lookup', 'management', 'me', 'module', 'nearby', 'next', 'nice', 'of', 'offered', 'open', 'patient', 'pharmacy', 'pressure', 'provide', 'reaction', 'related', 'result', 'search', 'searching', 'see', 'show', 'suitable', 'support', 'task', 'thank', 'thanks', 'that', 'there', 'till', 'time', 'to', 'transfer', 'up', 'want', 'what', 'which', 'with', 'you']\n"
     ]
    },
    {
     "name": "stderr",
     "output_type": "stream",
     "text": [
      "[nltk_data] Downloading package wordnet to /home/sabrine/nltk_data...\n",
      "[nltk_data]   Package wordnet is already up-to-date!\n",
      "[nltk_data] Downloading package omw-1.4 to /home/sabrine/nltk_data...\n",
      "[nltk_data]   Package omw-1.4 is already up-to-date!\n"
     ]
    }
   ],
   "source": [
    "nltk.download('wordnet')\n",
    "nltk.download('omw-1.4')\n",
    "words = [lemmatizer.lemmatize(w.lower()) for w in words if w not in ignore_words]\n",
    "words = sorted(list(set(words)))\n",
    "print(words)"
   ]
  },
  {
   "cell_type": "markdown",
   "id": "423c2a65",
   "metadata": {},
   "source": [
    "## sort classes"
   ]
  },
  {
   "cell_type": "code",
   "execution_count": 38,
   "id": "108451ac",
   "metadata": {},
   "outputs": [],
   "source": [
    "\n",
    "classes = sorted(list(set(classes)))"
   ]
  },
  {
   "cell_type": "markdown",
   "id": "209d8f4c",
   "metadata": {},
   "source": [
    "## documents = combination between patterns and intents"
   ]
  },
  {
   "cell_type": "code",
   "execution_count": 39,
   "id": "dbf8752f",
   "metadata": {},
   "outputs": [
    {
     "name": "stdout",
     "output_type": "stream",
     "text": [
      "47 documents\n"
     ]
    }
   ],
   "source": [
    "print (len(documents), \"documents\")"
   ]
  },
  {
   "cell_type": "markdown",
   "id": "8ecc12d6",
   "metadata": {},
   "source": [
    "## classes = intents"
   ]
  },
  {
   "cell_type": "code",
   "execution_count": 40,
   "id": "699c2657",
   "metadata": {},
   "outputs": [
    {
     "name": "stdout",
     "output_type": "stream",
     "text": [
      "9 classes ['adverse_drug', 'blood_pressure', 'blood_pressure_search', 'goodbye', 'greeting', 'hospital_search', 'options', 'pharmacy_search', 'thanks']\n"
     ]
    }
   ],
   "source": [
    "print (len(classes), \"classes\", classes)"
   ]
  },
  {
   "cell_type": "markdown",
   "id": "3a40dc80",
   "metadata": {},
   "source": [
    "## words = all words, vocabulary\n"
   ]
  },
  {
   "cell_type": "code",
   "execution_count": 41,
   "id": "c0c5a4f3",
   "metadata": {},
   "outputs": [
    {
     "name": "stdout",
     "output_type": "stream",
     "text": [
      "88 unique lemmatized words [\"'s\", ',', 'a', 'adverse', 'all', 'anyone', 'are', 'awesome', 'be', 'behavior', 'blood', 'by', 'bye', 'can', 'causing', 'chatting', 'check', 'could', 'data', 'day', 'detail', 'do', 'dont', 'drug', 'entry', 'find', 'for', 'give', 'good', 'goodbye', 'have', 'hello', 'help', 'helpful', 'helping', 'hey', 'hi', 'history', 'hola', 'hospital', 'how', 'i', 'id', 'is', 'later', 'list', 'load', 'locate', 'log', 'looking', 'lookup', 'management', 'me', 'module', 'nearby', 'next', 'nice', 'of', 'offered', 'open', 'patient', 'pharmacy', 'pressure', 'provide', 'reaction', 'related', 'result', 'search', 'searching', 'see', 'show', 'suitable', 'support', 'task', 'thank', 'thanks', 'that', 'there', 'till', 'time', 'to', 'transfer', 'up', 'want', 'what', 'which', 'with', 'you']\n"
     ]
    }
   ],
   "source": [
    "\n",
    "print (len(words), \"unique lemmatized words\", words)"
   ]
  },
  {
   "cell_type": "code",
   "execution_count": 42,
   "id": "611f7860",
   "metadata": {},
   "outputs": [],
   "source": [
    "pickle.dump(words,open('words.pkl','wb'))\n",
    "pickle.dump(classes,open('classes.pkl','wb'))"
   ]
  },
  {
   "cell_type": "code",
   "execution_count": 43,
   "id": "d9d5942d",
   "metadata": {},
   "outputs": [],
   "source": [
    "# create our training data\n",
    "training = []\n",
    "# create an empty array for our output\n",
    "output_empty = [0] * len(classes)\n",
    "# training set, bag of words for each sentence\n",
    "for doc in documents:\n",
    "    # initialize our bag of words\n",
    "    bag = []\n",
    "    # list of tokenized words for the pattern\n",
    "    pattern_words = doc[0]\n",
    "    # lemmatize each word - create base word, in attempt to represent related words\n",
    "    pattern_words = [lemmatizer.lemmatize(word.lower()) for word in pattern_words]\n",
    "    # create our bag of words array with 1, if word match found in current pattern\n",
    "    for w in words:\n",
    "        bag.append(1) if w in pattern_words else bag.append(0)\n",
    "    \n",
    "    # output is a '0' for each tag and '1' for current tag (for each pattern)\n",
    "    output_row = list(output_empty)\n",
    "    output_row[classes.index(doc[1])] = 1\n",
    "    \n",
    "    training.append([bag, output_row])"
   ]
  },
  {
   "cell_type": "markdown",
   "id": "6f9ddfec",
   "metadata": {},
   "source": [
    "## shuffle our features and turn into np.array\n"
   ]
  },
  {
   "cell_type": "code",
   "execution_count": 44,
   "id": "61394530",
   "metadata": {},
   "outputs": [
    {
     "name": "stderr",
     "output_type": "stream",
     "text": [
      "/tmp/ipykernel_68901/1154947512.py:2: VisibleDeprecationWarning: Creating an ndarray from ragged nested sequences (which is a list-or-tuple of lists-or-tuples-or ndarrays with different lengths or shapes) is deprecated. If you meant to do this, you must specify 'dtype=object' when creating the ndarray\n",
      "  training = np.array(training)\n"
     ]
    }
   ],
   "source": [
    "random.shuffle(training)\n",
    "training = np.array(training)\n"
   ]
  },
  {
   "cell_type": "markdown",
   "id": "2c9bd700",
   "metadata": {},
   "source": [
    "## create train and test lists. X - patterns, Y - intents\n"
   ]
  },
  {
   "cell_type": "code",
   "execution_count": 45,
   "id": "6ddbd97e",
   "metadata": {},
   "outputs": [
    {
     "name": "stdout",
     "output_type": "stream",
     "text": [
      "Training data created\n"
     ]
    }
   ],
   "source": [
    "train_x = list(training[:,0])\n",
    "train_y = list(training[:,1])\n",
    "print(\"Training data created\")"
   ]
  },
  {
   "cell_type": "markdown",
   "id": "467f8318",
   "metadata": {},
   "source": [
    "## Create model - 3 layers. First layer 128 neurons, second layer 64 neurons and 3rd output layer contains number of neurons\n"
   ]
  },
  {
   "cell_type": "code",
   "execution_count": 46,
   "id": "eb9df453",
   "metadata": {},
   "outputs": [],
   "source": [
    "# equal to number of intents to predict output intent with softmax\n",
    "\n",
    "model = Sequential()\n",
    "model.add(Dense(128, input_shape=(len(train_x[0]),), activation='relu'))\n",
    "model.add(Dropout(0.5))\n",
    "model.add(Dense(64, activation='relu'))\n",
    "model.add(Dropout(0.5))\n",
    "model.add(Dense(len(train_y[0]), activation='softmax'))"
   ]
  },
  {
   "cell_type": "markdown",
   "id": "6ed21a56",
   "metadata": {},
   "source": [
    "## Compile model. Stochastic gradient descent with Nesterov accelerated gradient gives good results for this model\n"
   ]
  },
  {
   "cell_type": "code",
   "execution_count": 47,
   "id": "01c789d2",
   "metadata": {},
   "outputs": [],
   "source": [
    "sgd = SGD(lr=0.01, decay=1e-6, momentum=0.9, nesterov=True)\n",
    "model.compile(loss='categorical_crossentropy', optimizer=sgd, metrics=['accuracy'])"
   ]
  },
  {
   "cell_type": "markdown",
   "id": "f0c956e5",
   "metadata": {},
   "source": [
    "## fitting and saving the model "
   ]
  },
  {
   "cell_type": "code",
   "execution_count": 48,
   "id": "ef7b5b15",
   "metadata": {},
   "outputs": [
    {
     "name": "stdout",
     "output_type": "stream",
     "text": [
      "Epoch 1/200\n",
      "10/10 [==============================] - 0s 1ms/step - loss: 2.1970 - accuracy: 0.1915\n",
      "Epoch 2/200\n",
      "10/10 [==============================] - 0s 2ms/step - loss: 2.0415 - accuracy: 0.1915\n",
      "Epoch 3/200\n",
      "10/10 [==============================] - 0s 2ms/step - loss: 2.0304 - accuracy: 0.2553\n",
      "Epoch 4/200\n",
      "10/10 [==============================] - 0s 1ms/step - loss: 1.9093 - accuracy: 0.3830\n",
      "Epoch 5/200\n",
      "10/10 [==============================] - 0s 2ms/step - loss: 1.8984 - accuracy: 0.3191\n",
      "Epoch 6/200\n",
      "10/10 [==============================] - 0s 2ms/step - loss: 1.6899 - accuracy: 0.4043\n",
      "Epoch 7/200\n",
      "10/10 [==============================] - 0s 2ms/step - loss: 1.5093 - accuracy: 0.5957\n",
      "Epoch 8/200\n",
      "10/10 [==============================] - 0s 2ms/step - loss: 1.5514 - accuracy: 0.4681\n",
      "Epoch 9/200\n",
      "10/10 [==============================] - 0s 2ms/step - loss: 1.3462 - accuracy: 0.4894\n",
      "Epoch 10/200\n",
      "10/10 [==============================] - 0s 2ms/step - loss: 1.0681 - accuracy: 0.8085\n",
      "Epoch 11/200\n",
      "10/10 [==============================] - 0s 2ms/step - loss: 1.0696 - accuracy: 0.7234\n",
      "Epoch 12/200\n",
      "10/10 [==============================] - 0s 2ms/step - loss: 1.1283 - accuracy: 0.6170\n",
      "Epoch 13/200\n",
      "10/10 [==============================] - 0s 2ms/step - loss: 0.8330 - accuracy: 0.7660\n",
      "Epoch 14/200\n",
      "10/10 [==============================] - 0s 2ms/step - loss: 0.8208 - accuracy: 0.7234\n",
      "Epoch 15/200\n",
      "10/10 [==============================] - 0s 2ms/step - loss: 0.7560 - accuracy: 0.7660\n",
      "Epoch 16/200\n",
      "10/10 [==============================] - 0s 3ms/step - loss: 0.7163 - accuracy: 0.7021\n",
      "Epoch 17/200\n",
      "10/10 [==============================] - 0s 3ms/step - loss: 0.6517 - accuracy: 0.7872\n",
      "Epoch 18/200\n",
      "10/10 [==============================] - 0s 2ms/step - loss: 0.6415 - accuracy: 0.8085\n",
      "Epoch 19/200\n",
      "10/10 [==============================] - 0s 3ms/step - loss: 0.3951 - accuracy: 0.9574\n",
      "Epoch 20/200\n",
      "10/10 [==============================] - 0s 2ms/step - loss: 0.4062 - accuracy: 0.8936\n",
      "Epoch 21/200\n",
      "10/10 [==============================] - 0s 1ms/step - loss: 0.4372 - accuracy: 0.8723\n",
      "Epoch 22/200\n",
      "10/10 [==============================] - 0s 3ms/step - loss: 0.2821 - accuracy: 0.9574\n",
      "Epoch 23/200\n",
      "10/10 [==============================] - 0s 3ms/step - loss: 0.3608 - accuracy: 0.8723\n",
      "Epoch 24/200\n",
      "10/10 [==============================] - 0s 2ms/step - loss: 0.3760 - accuracy: 0.9149\n",
      "Epoch 25/200\n",
      "10/10 [==============================] - 0s 3ms/step - loss: 0.3512 - accuracy: 0.9149\n",
      "Epoch 26/200\n",
      "10/10 [==============================] - 0s 3ms/step - loss: 0.3111 - accuracy: 0.9362\n",
      "Epoch 27/200\n",
      "10/10 [==============================] - 0s 2ms/step - loss: 0.2584 - accuracy: 0.9362\n",
      "Epoch 28/200\n",
      "10/10 [==============================] - 0s 1ms/step - loss: 0.3155 - accuracy: 0.9149\n",
      "Epoch 29/200\n",
      "10/10 [==============================] - 0s 2ms/step - loss: 0.2621 - accuracy: 0.9574\n",
      "Epoch 30/200\n",
      "10/10 [==============================] - 0s 2ms/step - loss: 0.3654 - accuracy: 0.9149\n",
      "Epoch 31/200\n",
      "10/10 [==============================] - 0s 2ms/step - loss: 0.2481 - accuracy: 0.9149\n",
      "Epoch 32/200\n",
      "10/10 [==============================] - 0s 2ms/step - loss: 0.2459 - accuracy: 0.9149\n",
      "Epoch 33/200\n",
      "10/10 [==============================] - 0s 2ms/step - loss: 0.1787 - accuracy: 0.9574\n",
      "Epoch 34/200\n",
      "10/10 [==============================] - 0s 2ms/step - loss: 0.2481 - accuracy: 0.9149\n",
      "Epoch 35/200\n",
      "10/10 [==============================] - 0s 2ms/step - loss: 0.1827 - accuracy: 0.9787\n",
      "Epoch 36/200\n",
      "10/10 [==============================] - 0s 3ms/step - loss: 0.2907 - accuracy: 0.9149\n",
      "Epoch 37/200\n",
      "10/10 [==============================] - 0s 2ms/step - loss: 0.3571 - accuracy: 0.8936\n",
      "Epoch 38/200\n",
      "10/10 [==============================] - 0s 1ms/step - loss: 0.2091 - accuracy: 0.9149\n",
      "Epoch 39/200\n",
      "10/10 [==============================] - 0s 1ms/step - loss: 0.3418 - accuracy: 0.8723\n",
      "Epoch 40/200\n",
      "10/10 [==============================] - 0s 1ms/step - loss: 0.1775 - accuracy: 0.9787\n",
      "Epoch 41/200\n",
      "10/10 [==============================] - 0s 2ms/step - loss: 0.1272 - accuracy: 0.9787\n",
      "Epoch 42/200\n",
      "10/10 [==============================] - 0s 2ms/step - loss: 0.0968 - accuracy: 0.9787\n",
      "Epoch 43/200\n",
      "10/10 [==============================] - 0s 2ms/step - loss: 0.1347 - accuracy: 0.9787\n",
      "Epoch 44/200\n",
      "10/10 [==============================] - 0s 3ms/step - loss: 0.1402 - accuracy: 0.9787\n",
      "Epoch 45/200\n",
      "10/10 [==============================] - 0s 2ms/step - loss: 0.1492 - accuracy: 0.9787\n",
      "Epoch 46/200\n",
      "10/10 [==============================] - 0s 2ms/step - loss: 0.0828 - accuracy: 1.0000\n",
      "Epoch 47/200\n",
      "10/10 [==============================] - 0s 3ms/step - loss: 0.0427 - accuracy: 1.0000\n",
      "Epoch 48/200\n",
      "10/10 [==============================] - 0s 2ms/step - loss: 0.0939 - accuracy: 0.9787\n",
      "Epoch 49/200\n",
      "10/10 [==============================] - 0s 1ms/step - loss: 0.0635 - accuracy: 1.0000\n",
      "Epoch 50/200\n",
      "10/10 [==============================] - 0s 998us/step - loss: 0.0789 - accuracy: 0.9787\n",
      "Epoch 51/200\n",
      "10/10 [==============================] - 0s 1ms/step - loss: 0.0837 - accuracy: 0.9787\n",
      "Epoch 52/200\n",
      "10/10 [==============================] - 0s 1ms/step - loss: 0.1503 - accuracy: 0.9574\n",
      "Epoch 53/200\n",
      "10/10 [==============================] - 0s 1ms/step - loss: 0.0861 - accuracy: 0.9787\n",
      "Epoch 54/200\n",
      "10/10 [==============================] - 0s 1ms/step - loss: 0.0784 - accuracy: 1.0000\n",
      "Epoch 55/200\n",
      "10/10 [==============================] - 0s 1ms/step - loss: 0.1303 - accuracy: 0.9574\n",
      "Epoch 56/200\n",
      "10/10 [==============================] - 0s 2ms/step - loss: 0.0424 - accuracy: 1.0000\n",
      "Epoch 57/200\n",
      "10/10 [==============================] - 0s 1ms/step - loss: 0.1200 - accuracy: 0.9574\n",
      "Epoch 58/200\n",
      "10/10 [==============================] - 0s 1ms/step - loss: 0.0508 - accuracy: 1.0000\n",
      "Epoch 59/200\n",
      "10/10 [==============================] - 0s 992us/step - loss: 0.0760 - accuracy: 0.9787\n",
      "Epoch 60/200\n",
      "10/10 [==============================] - 0s 1ms/step - loss: 0.0798 - accuracy: 0.9787\n",
      "Epoch 61/200\n",
      "10/10 [==============================] - 0s 1ms/step - loss: 0.0352 - accuracy: 1.0000\n",
      "Epoch 62/200\n",
      "10/10 [==============================] - 0s 1ms/step - loss: 0.0616 - accuracy: 0.9787\n",
      "Epoch 63/200\n",
      "10/10 [==============================] - 0s 2ms/step - loss: 0.0582 - accuracy: 1.0000\n",
      "Epoch 64/200\n",
      "10/10 [==============================] - 0s 1ms/step - loss: 0.0384 - accuracy: 1.0000\n",
      "Epoch 65/200\n",
      "10/10 [==============================] - 0s 1ms/step - loss: 0.0400 - accuracy: 1.0000\n",
      "Epoch 66/200\n",
      "10/10 [==============================] - 0s 1ms/step - loss: 0.1155 - accuracy: 0.9574\n",
      "Epoch 67/200\n",
      "10/10 [==============================] - 0s 1ms/step - loss: 0.0592 - accuracy: 1.0000\n",
      "Epoch 68/200\n",
      "10/10 [==============================] - 0s 1ms/step - loss: 0.0525 - accuracy: 1.0000\n",
      "Epoch 69/200\n",
      "10/10 [==============================] - 0s 1ms/step - loss: 0.0594 - accuracy: 1.0000\n",
      "Epoch 70/200\n",
      "10/10 [==============================] - 0s 1ms/step - loss: 0.0668 - accuracy: 0.9787\n",
      "Epoch 71/200\n",
      "10/10 [==============================] - 0s 1ms/step - loss: 0.0473 - accuracy: 1.0000\n",
      "Epoch 72/200\n",
      "10/10 [==============================] - 0s 1ms/step - loss: 0.0370 - accuracy: 1.0000\n",
      "Epoch 73/200\n",
      "10/10 [==============================] - 0s 1ms/step - loss: 0.0925 - accuracy: 0.9787\n",
      "Epoch 74/200\n",
      "10/10 [==============================] - 0s 1ms/step - loss: 0.0394 - accuracy: 1.0000\n",
      "Epoch 75/200\n",
      "10/10 [==============================] - 0s 2ms/step - loss: 0.0248 - accuracy: 1.0000\n",
      "Epoch 76/200\n",
      "10/10 [==============================] - 0s 2ms/step - loss: 0.0228 - accuracy: 1.0000\n",
      "Epoch 77/200\n",
      "10/10 [==============================] - 0s 1ms/step - loss: 0.0266 - accuracy: 1.0000\n",
      "Epoch 78/200\n",
      "10/10 [==============================] - 0s 1ms/step - loss: 0.0434 - accuracy: 1.0000\n",
      "Epoch 79/200\n",
      "10/10 [==============================] - 0s 1ms/step - loss: 0.0334 - accuracy: 1.0000\n",
      "Epoch 80/200\n",
      "10/10 [==============================] - 0s 2ms/step - loss: 0.0270 - accuracy: 1.0000\n",
      "Epoch 81/200\n",
      "10/10 [==============================] - 0s 2ms/step - loss: 0.0702 - accuracy: 1.0000\n",
      "Epoch 82/200\n",
      "10/10 [==============================] - 0s 1ms/step - loss: 0.0376 - accuracy: 1.0000\n",
      "Epoch 83/200\n",
      "10/10 [==============================] - 0s 1ms/step - loss: 0.0282 - accuracy: 1.0000\n",
      "Epoch 84/200\n",
      "10/10 [==============================] - 0s 1ms/step - loss: 0.0142 - accuracy: 1.0000\n",
      "Epoch 85/200\n",
      "10/10 [==============================] - 0s 1ms/step - loss: 0.0351 - accuracy: 0.9787\n",
      "Epoch 86/200\n",
      "10/10 [==============================] - 0s 1ms/step - loss: 0.0901 - accuracy: 0.9787\n",
      "Epoch 87/200\n",
      "10/10 [==============================] - 0s 1ms/step - loss: 0.0377 - accuracy: 1.0000\n",
      "Epoch 88/200\n",
      "10/10 [==============================] - 0s 1ms/step - loss: 0.0705 - accuracy: 0.9787\n",
      "Epoch 89/200\n",
      "10/10 [==============================] - 0s 2ms/step - loss: 0.0483 - accuracy: 1.0000\n",
      "Epoch 90/200\n",
      "10/10 [==============================] - 0s 2ms/step - loss: 0.0503 - accuracy: 0.9787\n",
      "Epoch 91/200\n",
      "10/10 [==============================] - 0s 2ms/step - loss: 0.0417 - accuracy: 1.0000\n",
      "Epoch 92/200\n",
      "10/10 [==============================] - 0s 1ms/step - loss: 0.0229 - accuracy: 1.0000\n",
      "Epoch 93/200\n",
      "10/10 [==============================] - 0s 2ms/step - loss: 0.0158 - accuracy: 1.0000\n",
      "Epoch 94/200\n",
      "10/10 [==============================] - 0s 1ms/step - loss: 0.0669 - accuracy: 1.0000\n",
      "Epoch 95/200\n",
      "10/10 [==============================] - 0s 1ms/step - loss: 0.0491 - accuracy: 0.9787\n",
      "Epoch 96/200\n",
      "10/10 [==============================] - 0s 2ms/step - loss: 0.0298 - accuracy: 1.0000\n",
      "Epoch 97/200\n",
      "10/10 [==============================] - 0s 2ms/step - loss: 0.0533 - accuracy: 0.9787\n",
      "Epoch 98/200\n",
      "10/10 [==============================] - 0s 2ms/step - loss: 0.0485 - accuracy: 0.9787\n",
      "Epoch 99/200\n",
      "10/10 [==============================] - 0s 2ms/step - loss: 0.0204 - accuracy: 1.0000\n",
      "Epoch 100/200\n",
      "10/10 [==============================] - 0s 2ms/step - loss: 0.0330 - accuracy: 1.0000\n",
      "Epoch 101/200\n",
      "10/10 [==============================] - 0s 2ms/step - loss: 0.1096 - accuracy: 0.9574\n",
      "Epoch 102/200\n",
      "10/10 [==============================] - 0s 2ms/step - loss: 0.1075 - accuracy: 0.9787\n",
      "Epoch 103/200\n",
      "10/10 [==============================] - 0s 2ms/step - loss: 0.0287 - accuracy: 1.0000\n",
      "Epoch 104/200\n",
      "10/10 [==============================] - 0s 2ms/step - loss: 0.0250 - accuracy: 1.0000\n",
      "Epoch 105/200\n",
      "10/10 [==============================] - 0s 2ms/step - loss: 0.0193 - accuracy: 1.0000\n",
      "Epoch 106/200\n",
      "10/10 [==============================] - 0s 1ms/step - loss: 0.0239 - accuracy: 1.0000\n",
      "Epoch 107/200\n",
      "10/10 [==============================] - 0s 2ms/step - loss: 0.0405 - accuracy: 0.9787\n",
      "Epoch 108/200\n",
      "10/10 [==============================] - 0s 1ms/step - loss: 0.0175 - accuracy: 1.0000\n",
      "Epoch 109/200\n",
      "10/10 [==============================] - 0s 1ms/step - loss: 0.0290 - accuracy: 1.0000\n",
      "Epoch 110/200\n",
      "10/10 [==============================] - 0s 1ms/step - loss: 0.0082 - accuracy: 1.0000\n",
      "Epoch 111/200\n",
      "10/10 [==============================] - 0s 1ms/step - loss: 0.0202 - accuracy: 1.0000\n",
      "Epoch 112/200\n",
      "10/10 [==============================] - 0s 2ms/step - loss: 0.0186 - accuracy: 1.0000\n",
      "Epoch 113/200\n",
      "10/10 [==============================] - 0s 1ms/step - loss: 0.0581 - accuracy: 0.9787\n",
      "Epoch 114/200\n",
      "10/10 [==============================] - 0s 1ms/step - loss: 0.0411 - accuracy: 1.0000\n",
      "Epoch 115/200\n",
      "10/10 [==============================] - 0s 1ms/step - loss: 0.0155 - accuracy: 1.0000\n",
      "Epoch 116/200\n",
      "10/10 [==============================] - 0s 1ms/step - loss: 0.0530 - accuracy: 0.9787\n",
      "Epoch 117/200\n",
      "10/10 [==============================] - 0s 1ms/step - loss: 0.0194 - accuracy: 1.0000\n",
      "Epoch 118/200\n",
      "10/10 [==============================] - 0s 1ms/step - loss: 0.0168 - accuracy: 1.0000\n",
      "Epoch 119/200\n",
      "10/10 [==============================] - 0s 1ms/step - loss: 0.0108 - accuracy: 1.0000\n",
      "Epoch 120/200\n",
      "10/10 [==============================] - 0s 1ms/step - loss: 0.0070 - accuracy: 1.0000\n",
      "Epoch 121/200\n",
      "10/10 [==============================] - 0s 1ms/step - loss: 0.0441 - accuracy: 0.9787\n",
      "Epoch 122/200\n",
      "10/10 [==============================] - 0s 1ms/step - loss: 0.0111 - accuracy: 1.0000\n",
      "Epoch 123/200\n",
      "10/10 [==============================] - 0s 1ms/step - loss: 0.0171 - accuracy: 1.0000\n",
      "Epoch 124/200\n",
      "10/10 [==============================] - 0s 1ms/step - loss: 0.0062 - accuracy: 1.0000\n",
      "Epoch 125/200\n",
      "10/10 [==============================] - 0s 1ms/step - loss: 0.0292 - accuracy: 1.0000\n",
      "Epoch 126/200\n",
      "10/10 [==============================] - 0s 1ms/step - loss: 0.0142 - accuracy: 1.0000\n",
      "Epoch 127/200\n",
      "10/10 [==============================] - 0s 2ms/step - loss: 0.0222 - accuracy: 1.0000\n",
      "Epoch 128/200\n",
      "10/10 [==============================] - 0s 1ms/step - loss: 0.0320 - accuracy: 0.9787\n",
      "Epoch 129/200\n",
      "10/10 [==============================] - 0s 1ms/step - loss: 0.0511 - accuracy: 1.0000\n",
      "Epoch 130/200\n",
      "10/10 [==============================] - 0s 1ms/step - loss: 0.0239 - accuracy: 1.0000\n",
      "Epoch 131/200\n",
      "10/10 [==============================] - 0s 2ms/step - loss: 0.0120 - accuracy: 1.0000\n",
      "Epoch 132/200\n",
      "10/10 [==============================] - 0s 1ms/step - loss: 0.0325 - accuracy: 1.0000\n",
      "Epoch 133/200\n",
      "10/10 [==============================] - 0s 1ms/step - loss: 0.0142 - accuracy: 1.0000\n",
      "Epoch 134/200\n",
      "10/10 [==============================] - 0s 2ms/step - loss: 0.0068 - accuracy: 1.0000\n",
      "Epoch 135/200\n",
      "10/10 [==============================] - 0s 1ms/step - loss: 0.0375 - accuracy: 1.0000\n",
      "Epoch 136/200\n",
      "10/10 [==============================] - 0s 2ms/step - loss: 0.0336 - accuracy: 0.9787\n",
      "Epoch 137/200\n",
      "10/10 [==============================] - 0s 2ms/step - loss: 0.0216 - accuracy: 1.0000\n",
      "Epoch 138/200\n",
      "10/10 [==============================] - 0s 1ms/step - loss: 0.0048 - accuracy: 1.0000\n",
      "Epoch 139/200\n",
      "10/10 [==============================] - 0s 1ms/step - loss: 0.0704 - accuracy: 0.9787\n",
      "Epoch 140/200\n",
      "10/10 [==============================] - 0s 1ms/step - loss: 0.0367 - accuracy: 0.9787\n",
      "Epoch 141/200\n",
      "10/10 [==============================] - 0s 1ms/step - loss: 0.0095 - accuracy: 1.0000\n",
      "Epoch 142/200\n",
      "10/10 [==============================] - 0s 1ms/step - loss: 0.0133 - accuracy: 1.0000\n",
      "Epoch 143/200\n",
      "10/10 [==============================] - 0s 3ms/step - loss: 0.0048 - accuracy: 1.0000\n",
      "Epoch 144/200\n",
      "10/10 [==============================] - 0s 3ms/step - loss: 0.0158 - accuracy: 1.0000\n",
      "Epoch 145/200\n",
      "10/10 [==============================] - 0s 2ms/step - loss: 0.0291 - accuracy: 0.9787\n",
      "Epoch 146/200\n",
      "10/10 [==============================] - 0s 2ms/step - loss: 0.0758 - accuracy: 0.9787\n",
      "Epoch 147/200\n",
      "10/10 [==============================] - 0s 2ms/step - loss: 0.0340 - accuracy: 0.9787\n",
      "Epoch 148/200\n",
      "10/10 [==============================] - 0s 2ms/step - loss: 0.0582 - accuracy: 0.9787\n",
      "Epoch 149/200\n",
      "10/10 [==============================] - 0s 2ms/step - loss: 0.0480 - accuracy: 0.9787\n",
      "Epoch 150/200\n",
      "10/10 [==============================] - 0s 1ms/step - loss: 0.0083 - accuracy: 1.0000\n",
      "Epoch 151/200\n",
      "10/10 [==============================] - 0s 2ms/step - loss: 0.0206 - accuracy: 1.0000\n",
      "Epoch 152/200\n",
      "10/10 [==============================] - 0s 2ms/step - loss: 0.0127 - accuracy: 1.0000\n",
      "Epoch 153/200\n",
      "10/10 [==============================] - 0s 1ms/step - loss: 0.0427 - accuracy: 1.0000\n",
      "Epoch 154/200\n",
      "10/10 [==============================] - 0s 1ms/step - loss: 0.0168 - accuracy: 1.0000\n",
      "Epoch 155/200\n",
      "10/10 [==============================] - 0s 1ms/step - loss: 0.0118 - accuracy: 1.0000\n",
      "Epoch 156/200\n",
      "10/10 [==============================] - 0s 2ms/step - loss: 0.0142 - accuracy: 1.0000\n",
      "Epoch 157/200\n",
      "10/10 [==============================] - 0s 2ms/step - loss: 0.0095 - accuracy: 1.0000\n",
      "Epoch 158/200\n",
      "10/10 [==============================] - 0s 2ms/step - loss: 0.0238 - accuracy: 1.0000\n",
      "Epoch 159/200\n",
      "10/10 [==============================] - 0s 1ms/step - loss: 0.0147 - accuracy: 1.0000\n",
      "Epoch 160/200\n",
      "10/10 [==============================] - 0s 1ms/step - loss: 0.0101 - accuracy: 1.0000\n",
      "Epoch 161/200\n",
      "10/10 [==============================] - 0s 1ms/step - loss: 0.0924 - accuracy: 0.9574\n",
      "Epoch 162/200\n",
      "10/10 [==============================] - 0s 1ms/step - loss: 0.0478 - accuracy: 0.9787\n",
      "Epoch 163/200\n",
      "10/10 [==============================] - 0s 2ms/step - loss: 0.0058 - accuracy: 1.0000\n",
      "Epoch 164/200\n",
      "10/10 [==============================] - 0s 1ms/step - loss: 0.0170 - accuracy: 1.0000\n",
      "Epoch 165/200\n",
      "10/10 [==============================] - 0s 2ms/step - loss: 0.0445 - accuracy: 0.9787\n",
      "Epoch 166/200\n",
      "10/10 [==============================] - 0s 2ms/step - loss: 0.0166 - accuracy: 1.0000\n",
      "Epoch 167/200\n",
      "10/10 [==============================] - 0s 2ms/step - loss: 0.0026 - accuracy: 1.0000\n",
      "Epoch 168/200\n",
      "10/10 [==============================] - 0s 2ms/step - loss: 0.0411 - accuracy: 0.9787\n",
      "Epoch 169/200\n",
      "10/10 [==============================] - 0s 1ms/step - loss: 0.0088 - accuracy: 1.0000\n",
      "Epoch 170/200\n",
      "10/10 [==============================] - 0s 1ms/step - loss: 0.0243 - accuracy: 1.0000\n",
      "Epoch 171/200\n",
      "10/10 [==============================] - 0s 1ms/step - loss: 0.0051 - accuracy: 1.0000\n",
      "Epoch 172/200\n",
      "10/10 [==============================] - 0s 2ms/step - loss: 0.0020 - accuracy: 1.0000\n",
      "Epoch 173/200\n",
      "10/10 [==============================] - 0s 1ms/step - loss: 0.0631 - accuracy: 0.9787\n",
      "Epoch 174/200\n",
      "10/10 [==============================] - 0s 2ms/step - loss: 0.0378 - accuracy: 0.9787\n",
      "Epoch 175/200\n",
      "10/10 [==============================] - 0s 2ms/step - loss: 0.0262 - accuracy: 1.0000\n",
      "Epoch 176/200\n",
      "10/10 [==============================] - 0s 1ms/step - loss: 0.0195 - accuracy: 1.0000\n",
      "Epoch 177/200\n",
      "10/10 [==============================] - 0s 2ms/step - loss: 0.0050 - accuracy: 1.0000\n",
      "Epoch 178/200\n",
      "10/10 [==============================] - 0s 1ms/step - loss: 0.0126 - accuracy: 1.0000\n",
      "Epoch 179/200\n",
      "10/10 [==============================] - 0s 1ms/step - loss: 0.0023 - accuracy: 1.0000\n",
      "Epoch 180/200\n",
      "10/10 [==============================] - 0s 1ms/step - loss: 0.0135 - accuracy: 1.0000\n",
      "Epoch 181/200\n",
      "10/10 [==============================] - 0s 1ms/step - loss: 0.0104 - accuracy: 1.0000\n",
      "Epoch 182/200\n",
      "10/10 [==============================] - 0s 1ms/step - loss: 0.0031 - accuracy: 1.0000\n",
      "Epoch 183/200\n",
      "10/10 [==============================] - 0s 1ms/step - loss: 0.0117 - accuracy: 1.0000\n",
      "Epoch 184/200\n",
      "10/10 [==============================] - 0s 1ms/step - loss: 0.0125 - accuracy: 1.0000\n",
      "Epoch 185/200\n",
      "10/10 [==============================] - 0s 1ms/step - loss: 0.0136 - accuracy: 1.0000\n",
      "Epoch 186/200\n",
      "10/10 [==============================] - 0s 1ms/step - loss: 0.0037 - accuracy: 1.0000\n",
      "Epoch 187/200\n",
      "10/10 [==============================] - 0s 1ms/step - loss: 0.0150 - accuracy: 1.0000\n",
      "Epoch 188/200\n",
      "10/10 [==============================] - 0s 1ms/step - loss: 0.0225 - accuracy: 1.0000\n",
      "Epoch 189/200\n",
      "10/10 [==============================] - 0s 2ms/step - loss: 0.0056 - accuracy: 1.0000\n",
      "Epoch 190/200\n",
      "10/10 [==============================] - 0s 2ms/step - loss: 0.0226 - accuracy: 1.0000\n",
      "Epoch 191/200\n",
      "10/10 [==============================] - 0s 2ms/step - loss: 0.0206 - accuracy: 1.0000\n",
      "Epoch 192/200\n",
      "10/10 [==============================] - 0s 2ms/step - loss: 0.0080 - accuracy: 1.0000\n",
      "Epoch 193/200\n",
      "10/10 [==============================] - 0s 1ms/step - loss: 0.0091 - accuracy: 1.0000\n",
      "Epoch 194/200\n",
      "10/10 [==============================] - 0s 1ms/step - loss: 0.0059 - accuracy: 1.0000\n",
      "Epoch 195/200\n",
      "10/10 [==============================] - 0s 1ms/step - loss: 0.0081 - accuracy: 1.0000\n",
      "Epoch 196/200\n",
      "10/10 [==============================] - 0s 1ms/step - loss: 0.0392 - accuracy: 0.9787\n",
      "Epoch 197/200\n",
      "10/10 [==============================] - 0s 1ms/step - loss: 0.0038 - accuracy: 1.0000\n",
      "Epoch 198/200\n",
      "10/10 [==============================] - 0s 2ms/step - loss: 0.0128 - accuracy: 1.0000\n",
      "Epoch 199/200\n",
      "10/10 [==============================] - 0s 2ms/step - loss: 0.0225 - accuracy: 1.0000\n",
      "Epoch 200/200\n",
      "10/10 [==============================] - 0s 1ms/step - loss: 0.0056 - accuracy: 1.0000\n",
      "model created\n"
     ]
    }
   ],
   "source": [
    "hist = model.fit(np.array(train_x), np.array(train_y), epochs=200, batch_size=5, verbose=1)\n",
    "model.save('chatbot_model.h5', hist)\n",
    "\n",
    "print(\"model created\")"
   ]
  },
  {
   "cell_type": "code",
   "execution_count": null,
   "id": "2b43c9da",
   "metadata": {},
   "outputs": [],
   "source": []
  }
 ],
 "metadata": {
  "kernelspec": {
   "display_name": "Python 3 (ipykernel)",
   "language": "python",
   "name": "python3"
  },
  "language_info": {
   "codemirror_mode": {
    "name": "ipython",
    "version": 3
   },
   "file_extension": ".py",
   "mimetype": "text/x-python",
   "name": "python",
   "nbconvert_exporter": "python",
   "pygments_lexer": "ipython3",
   "version": "3.8.10"
  },
  "vscode": {
   "interpreter": {
    "hash": "e7370f93d1d0cde622a1f8e1c04877d8463912d04d973331ad4851f04de6915a"
   }
  }
 },
 "nbformat": 4,
 "nbformat_minor": 5
}
